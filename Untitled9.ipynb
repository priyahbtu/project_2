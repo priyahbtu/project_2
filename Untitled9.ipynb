{
 "cells": [
  {
   "cell_type": "code",
   "execution_count": 18,
   "id": "712338c2",
   "metadata": {},
   "outputs": [],
   "source": [
    "p_t=2/3\n",
    "p_l=1/3"
   ]
  },
  {
   "cell_type": "code",
   "execution_count": 19,
   "id": "543722b9",
   "metadata": {},
   "outputs": [],
   "source": [
    "p_4_given_t=1/6\n",
    "p_4_given_l=1/6"
   ]
  },
  {
   "cell_type": "code",
   "execution_count": 22,
   "id": "e3ada142",
   "metadata": {},
   "outputs": [],
   "source": [
    "p_4 = p_4_given_t* p_t + p_4_given_l * p_l"
   ]
  },
  {
   "cell_type": "code",
   "execution_count": 24,
   "id": "bbcd13d1",
   "metadata": {},
   "outputs": [
    {
     "name": "stdout",
     "output_type": "stream",
     "text": [
      "The probability that the man speaks the truth given that he reports a 4 is: 0.6667\n"
     ]
    }
   ],
   "source": [
    "p_t_given_4 = (p_4_given_t *p_t) / p_4\n",
    "print(f\"The probability that the man speaks the truth given that he reports a 4 is: {p_t_given_4:.4f}\")\n"
   ]
  },
  {
   "cell_type": "code",
   "execution_count": 34,
   "id": "794ea1f4",
   "metadata": {},
   "outputs": [],
   "source": [
    "students = 100\n",
    "avg_marks = 78\n",
    "sigma = 25\n",
    "def calculate_probability(marks):\n",
    "    if marks < 60:\n",
    "        x = (avg_marks - 60) / sigma\n",
    "        return x\n",
    "    elif marks > 70:\n",
    "        y = (avg_marks - marks) / sigma\n",
    "        return y\n",
    "    elif 75 < marks < 85:\n",
    "        v = ((avg_marks - 75) / sigma) % ((avg_marks - 85) / sigma)\n",
    "        return v\n",
    "    else:\n",
    "        return \"Condition_not_met_for_mark\""
   ]
  },
  {
   "cell_type": "code",
   "execution_count": 35,
   "id": "a4359a4b",
   "metadata": {},
   "outputs": [
    {
     "name": "stdout",
     "output_type": "stream",
     "text": [
      "Result for marks =72:0.24\n"
     ]
    }
   ],
   "source": [
    "marks_input =72\n",
    "result = calculate_probability(marks_input)\n",
    "print(f\"Result for marks ={marks_input}:{result}\")"
   ]
  },
  {
   "cell_type": "code",
   "execution_count": 2,
   "id": "da29db7c",
   "metadata": {},
   "outputs": [],
   "source": [
    "import numpy as np \n",
    "p=np.array([[1/12,1/24,1/24],\n",
    "           [1/6,1/12,1/8],\n",
    "           [1/4,1/4,1/12]])   \n",
    "p_x=(1,2,3)\n",
    "p_y=(2,4,5)\n",
    "if p_x<=3  & p_y<=4:\n",
    "    return p*p_x_1+p*p_x_2,p*p_y_2+p*p_y_4\n",
    "else:\n",
    "    return 0 "
   ]
  },
  {
   "cell_type": "code",
   "execution_count": 8,
   "id": "09126092",
   "metadata": {},
   "outputs": [],
   "source": [
    "p_x=(1,2,3)\n",
    "p_y=(2,4,5)"
   ]
  },
  {
   "cell_type": "code",
   "execution_count": 6,
   "id": "69d5e14c",
   "metadata": {},
   "outputs": [
    {
     "ename": "SyntaxError",
     "evalue": "'return' outside function (2665696821.py, line 2)",
     "output_type": "error",
     "traceback": [
      "\u001b[1;36m  Cell \u001b[1;32mIn[6], line 2\u001b[1;36m\u001b[0m\n\u001b[1;33m    return p*p_x_1+p*p_x_2,p*p_y_2+p*p_y_4\u001b[0m\n\u001b[1;37m    ^\u001b[0m\n\u001b[1;31mSyntaxError\u001b[0m\u001b[1;31m:\u001b[0m 'return' outside function\n"
     ]
    }
   ],
   "source": [
    "if p_x<=3  & p_y<=4:\n",
    "    return p*p_x_1+p*p_x_2,p*p_y_2+p*p_y_4\n",
    "else:\n",
    "    return 0"
   ]
  },
  {
   "cell_type": "code",
   "execution_count": 9,
   "id": "b8b6aaa6",
   "metadata": {},
   "outputs": [
    {
     "ename": "SyntaxError",
     "evalue": "cannot assign to expression (1419050676.py, line 1)",
     "output_type": "error",
     "traceback": [
      "\u001b[1;36m  Cell \u001b[1;32mIn[9], line 1\u001b[1;36m\u001b[0m\n\u001b[1;33m    p_x_1&p_y=2=np.array[0,0]\u001b[0m\n\u001b[1;37m    ^\u001b[0m\n\u001b[1;31mSyntaxError\u001b[0m\u001b[1;31m:\u001b[0m cannot assign to expression\n"
     ]
    }
   ],
   "source": [
    "p_x_1&p_y_2=np.array[0,0]\n",
    "p_x_2&p_y_3"
   ]
  },
  {
   "cell_type": "code",
   "execution_count": null,
   "id": "c4967255",
   "metadata": {},
   "outputs": [],
   "source": [
    "r1={1,2}\n",
    "r2={5,6,7}\n",
    "x_not=3\n"
   ]
  },
  {
   "cell_type": "code",
   "execution_count": null,
   "id": "e3ce8eb0",
   "metadata": {},
   "outputs": [],
   "source": [
    "import numpy as np \n",
    "def average_score:\n",
    "    average_score_student_scored=0.78\n"
   ]
  },
  {
   "cell_type": "code",
   "execution_count": null,
   "id": "8760e403",
   "metadata": {},
   "outputs": [],
   "source": [
    "students=100\n",
    "prob_avg_scored"
   ]
  },
  {
   "cell_type": "code",
   "execution_count": 33,
   "id": "0724112c",
   "metadata": {},
   "outputs": [
    {
     "name": "stdout",
     "output_type": "stream",
     "text": [
      "Result: 0\n"
     ]
    }
   ],
   "source": [
    "import numpy as np\n",
    "p = np.array([[1/12, 1/24, 1/24],\n",
    "              [1/6, 1/12, 1/8],\n",
    "              [1/4, 1/4, 1/12]])\n",
    "p_x = np.array([1, 2, 3])\n",
    "p_y = np.array([2, 4, 5])\n",
    "def calculate_probabilities(p, p_x, p_y):\n",
    "    if np.all(p_x <= 3) and np.all(p_y <= 4):  \n",
    "        result_x = p * p_x[0] + p * p_x[1]\n",
    "        result_y = p * p_y[1] + p * p_y[3]\n",
    "        return result_x, result_y\n",
    "    else:\n",
    "        return 0\n",
    "result = calculate_probabilities(p, p_x, p_y)\n",
    "print(\"Result:\", result)"
   ]
  },
  {
   "cell_type": "code",
   "execution_count": 38,
   "id": "5345d05f",
   "metadata": {},
   "outputs": [],
   "source": [
    "import numpy as np\n",
    "p = np.array([[1/12, 1/24, 1/24],\n",
    "              [1/6, 1/12, 1/8],\n",
    "              [1/4, 1/4, 1/12]])\n",
    "def calculate_joint_probability(p):\n",
    "    submatrix = p[:2, :2]  \n",
    "    joint_probability = np.sum(submatrix)\n",
    "    return joint_probability\n"
   ]
  },
  {
   "cell_type": "code",
   "execution_count": 39,
   "id": "40411361",
   "metadata": {},
   "outputs": [
    {
     "name": "stdout",
     "output_type": "stream",
     "text": [
      "P(X <= 2, Y <= 4): 0.37499999999999994\n"
     ]
    }
   ],
   "source": [
    "result = calculate_joint_probability(p)\n",
    "print(\"P(X <= 2, Y <= 4):\", result)\n"
   ]
  },
  {
   "cell_type": "code",
   "execution_count": 40,
   "id": "914788f8",
   "metadata": {},
   "outputs": [
    {
     "name": "stdout",
     "output_type": "stream",
     "text": [
      "P(Y= 2, X=1): 0.37499999999999994\n"
     ]
    }
   ],
   "source": [
    "\n",
    "result = calculate_joint_probability(p)\n",
    "print(\"P(Y= 2, X=1):\", result)\n"
   ]
  },
  {
   "cell_type": "code",
   "execution_count": null,
   "id": "8ef57778",
   "metadata": {},
   "outputs": [],
   "source": []
  }
 ],
 "metadata": {
  "kernelspec": {
   "display_name": "Python 3 (ipykernel)",
   "language": "python",
   "name": "python3"
  },
  "language_info": {
   "codemirror_mode": {
    "name": "ipython",
    "version": 3
   },
   "file_extension": ".py",
   "mimetype": "text/x-python",
   "name": "python",
   "nbconvert_exporter": "python",
   "pygments_lexer": "ipython3",
   "version": "3.11.7"
  }
 },
 "nbformat": 4,
 "nbformat_minor": 5
}
